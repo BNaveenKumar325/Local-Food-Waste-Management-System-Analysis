{
  "nbformat": 4,
  "nbformat_minor": 0,
  "metadata": {
    "colab": {
      "provenance": []
    },
    "kernelspec": {
      "name": "python3",
      "display_name": "Python 3"
    },
    "language_info": {
      "name": "python"
    }
  },
  "cells": [
    {
      "cell_type": "code",
      "execution_count": null,
      "metadata": {
        "colab": {
          "base_uri": "https://localhost:8080/",
          "height": 86
        },
        "id": "cRj4tPdpymsV",
        "outputId": "a648229b-0149-4579-ee1b-ca0aae173d65"
      },
      "outputs": [
        {
          "output_type": "stream",
          "name": "stdout",
          "text": [
            "Cleaned /content/providers_data.csv → /content/providers_data_clean.csv\n",
            "Cleaned /content/receivers_data.csv → /content/receivers_data_clean.csv\n",
            "Cleaned /content/food_listings_data.csv → /content/food_listings_data_clean.csv\n",
            "Cleaned /content/claims_data.csv → /content/claims_data_clean.csv\n"
          ]
        },
        {
          "output_type": "display_data",
          "data": {
            "text/plain": [
              "<IPython.core.display.Javascript object>"
            ],
            "application/javascript": [
              "\n",
              "    async function download(id, filename, size) {\n",
              "      if (!google.colab.kernel.accessAllowed) {\n",
              "        return;\n",
              "      }\n",
              "      const div = document.createElement('div');\n",
              "      const label = document.createElement('label');\n",
              "      label.textContent = `Downloading \"${filename}\": `;\n",
              "      div.appendChild(label);\n",
              "      const progress = document.createElement('progress');\n",
              "      progress.max = size;\n",
              "      div.appendChild(progress);\n",
              "      document.body.appendChild(div);\n",
              "\n",
              "      const buffers = [];\n",
              "      let downloaded = 0;\n",
              "\n",
              "      const channel = await google.colab.kernel.comms.open(id);\n",
              "      // Send a message to notify the kernel that we're ready.\n",
              "      channel.send({})\n",
              "\n",
              "      for await (const message of channel.messages) {\n",
              "        // Send a message to notify the kernel that we're ready.\n",
              "        channel.send({})\n",
              "        if (message.buffers) {\n",
              "          for (const buffer of message.buffers) {\n",
              "            buffers.push(buffer);\n",
              "            downloaded += buffer.byteLength;\n",
              "            progress.value = downloaded;\n",
              "          }\n",
              "        }\n",
              "      }\n",
              "      const blob = new Blob(buffers, {type: 'application/binary'});\n",
              "      const a = document.createElement('a');\n",
              "      a.href = window.URL.createObjectURL(blob);\n",
              "      a.download = filename;\n",
              "      div.appendChild(a);\n",
              "      a.click();\n",
              "      div.remove();\n",
              "    }\n",
              "  "
            ]
          },
          "metadata": {}
        },
        {
          "output_type": "display_data",
          "data": {
            "text/plain": [
              "<IPython.core.display.Javascript object>"
            ],
            "application/javascript": [
              "download(\"download_b2c53d98-c987-4afd-b81b-cc786889466d\", \"providers_data_clean.csv\", 112505)"
            ]
          },
          "metadata": {}
        },
        {
          "output_type": "display_data",
          "data": {
            "text/plain": [
              "<IPython.core.display.Javascript object>"
            ],
            "application/javascript": [
              "\n",
              "    async function download(id, filename, size) {\n",
              "      if (!google.colab.kernel.accessAllowed) {\n",
              "        return;\n",
              "      }\n",
              "      const div = document.createElement('div');\n",
              "      const label = document.createElement('label');\n",
              "      label.textContent = `Downloading \"${filename}\": `;\n",
              "      div.appendChild(label);\n",
              "      const progress = document.createElement('progress');\n",
              "      progress.max = size;\n",
              "      div.appendChild(progress);\n",
              "      document.body.appendChild(div);\n",
              "\n",
              "      const buffers = [];\n",
              "      let downloaded = 0;\n",
              "\n",
              "      const channel = await google.colab.kernel.comms.open(id);\n",
              "      // Send a message to notify the kernel that we're ready.\n",
              "      channel.send({})\n",
              "\n",
              "      for await (const message of channel.messages) {\n",
              "        // Send a message to notify the kernel that we're ready.\n",
              "        channel.send({})\n",
              "        if (message.buffers) {\n",
              "          for (const buffer of message.buffers) {\n",
              "            buffers.push(buffer);\n",
              "            downloaded += buffer.byteLength;\n",
              "            progress.value = downloaded;\n",
              "          }\n",
              "        }\n",
              "      }\n",
              "      const blob = new Blob(buffers, {type: 'application/binary'});\n",
              "      const a = document.createElement('a');\n",
              "      a.href = window.URL.createObjectURL(blob);\n",
              "      a.download = filename;\n",
              "      div.appendChild(a);\n",
              "      a.click();\n",
              "      div.remove();\n",
              "    }\n",
              "  "
            ]
          },
          "metadata": {}
        },
        {
          "output_type": "display_data",
          "data": {
            "text/plain": [
              "<IPython.core.display.Javascript object>"
            ],
            "application/javascript": [
              "download(\"download_923894e0-8056-4d72-9da5-02b4f84cfce7\", \"receivers_data_clean.csv\", 55920)"
            ]
          },
          "metadata": {}
        },
        {
          "output_type": "display_data",
          "data": {
            "text/plain": [
              "<IPython.core.display.Javascript object>"
            ],
            "application/javascript": [
              "\n",
              "    async function download(id, filename, size) {\n",
              "      if (!google.colab.kernel.accessAllowed) {\n",
              "        return;\n",
              "      }\n",
              "      const div = document.createElement('div');\n",
              "      const label = document.createElement('label');\n",
              "      label.textContent = `Downloading \"${filename}\": `;\n",
              "      div.appendChild(label);\n",
              "      const progress = document.createElement('progress');\n",
              "      progress.max = size;\n",
              "      div.appendChild(progress);\n",
              "      document.body.appendChild(div);\n",
              "\n",
              "      const buffers = [];\n",
              "      let downloaded = 0;\n",
              "\n",
              "      const channel = await google.colab.kernel.comms.open(id);\n",
              "      // Send a message to notify the kernel that we're ready.\n",
              "      channel.send({})\n",
              "\n",
              "      for await (const message of channel.messages) {\n",
              "        // Send a message to notify the kernel that we're ready.\n",
              "        channel.send({})\n",
              "        if (message.buffers) {\n",
              "          for (const buffer of message.buffers) {\n",
              "            buffers.push(buffer);\n",
              "            downloaded += buffer.byteLength;\n",
              "            progress.value = downloaded;\n",
              "          }\n",
              "        }\n",
              "      }\n",
              "      const blob = new Blob(buffers, {type: 'application/binary'});\n",
              "      const a = document.createElement('a');\n",
              "      a.href = window.URL.createObjectURL(blob);\n",
              "      a.download = filename;\n",
              "      div.appendChild(a);\n",
              "      a.click();\n",
              "      div.remove();\n",
              "    }\n",
              "  "
            ]
          },
          "metadata": {}
        },
        {
          "output_type": "display_data",
          "data": {
            "text/plain": [
              "<IPython.core.display.Javascript object>"
            ],
            "application/javascript": [
              "download(\"download_e84b7893-48ec-4351-a7a2-131c83262244\", \"food_listings_data_clean.csv\", 72776)"
            ]
          },
          "metadata": {}
        },
        {
          "output_type": "display_data",
          "data": {
            "text/plain": [
              "<IPython.core.display.Javascript object>"
            ],
            "application/javascript": [
              "\n",
              "    async function download(id, filename, size) {\n",
              "      if (!google.colab.kernel.accessAllowed) {\n",
              "        return;\n",
              "      }\n",
              "      const div = document.createElement('div');\n",
              "      const label = document.createElement('label');\n",
              "      label.textContent = `Downloading \"${filename}\": `;\n",
              "      div.appendChild(label);\n",
              "      const progress = document.createElement('progress');\n",
              "      progress.max = size;\n",
              "      div.appendChild(progress);\n",
              "      document.body.appendChild(div);\n",
              "\n",
              "      const buffers = [];\n",
              "      let downloaded = 0;\n",
              "\n",
              "      const channel = await google.colab.kernel.comms.open(id);\n",
              "      // Send a message to notify the kernel that we're ready.\n",
              "      channel.send({})\n",
              "\n",
              "      for await (const message of channel.messages) {\n",
              "        // Send a message to notify the kernel that we're ready.\n",
              "        channel.send({})\n",
              "        if (message.buffers) {\n",
              "          for (const buffer of message.buffers) {\n",
              "            buffers.push(buffer);\n",
              "            downloaded += buffer.byteLength;\n",
              "            progress.value = downloaded;\n",
              "          }\n",
              "        }\n",
              "      }\n",
              "      const blob = new Blob(buffers, {type: 'application/binary'});\n",
              "      const a = document.createElement('a');\n",
              "      a.href = window.URL.createObjectURL(blob);\n",
              "      a.download = filename;\n",
              "      div.appendChild(a);\n",
              "      a.click();\n",
              "      div.remove();\n",
              "    }\n",
              "  "
            ]
          },
          "metadata": {}
        },
        {
          "output_type": "display_data",
          "data": {
            "text/plain": [
              "<IPython.core.display.Javascript object>"
            ],
            "application/javascript": [
              "download(\"download_ea1200b8-8ca7-480c-ad26-a0f1112f1896\", \"claims_data_clean.csv\", 41078)"
            ]
          },
          "metadata": {}
        }
      ],
      "source": [
        "import pandas as pd\n",
        "import os\n",
        "from google.colab import files\n",
        "\n",
        "# Define paths\n",
        "DATA_DIR = \"/content\"     # Colab default working directory\n",
        "OUTPUT_DIR = \"/content/cleaned\"\n",
        "os.makedirs(OUTPUT_DIR, exist_ok=True)\n",
        "\n",
        "def clean_dataframe(df):\n",
        "    # 1. Standardize column names\n",
        "    df.columns = [c.strip().replace(\" \", \"_\").replace(\"-\", \"_\") for c in df.columns]\n",
        "\n",
        "    # 2. Strip whitespace from string/object columns\n",
        "    for col in df.select_dtypes(include=[\"object\"]).columns:\n",
        "        df[col] = df[col].astype(str).str.strip()\n",
        "\n",
        "    # 3. Handle duplicates\n",
        "    df = df.drop_duplicates()\n",
        "\n",
        "    # 4. Handle missing values\n",
        "    df = df.fillna({\n",
        "        col: \"Unknown\" if df[col].dtype == \"object\" else 0\n",
        "        for col in df.columns\n",
        "    })\n",
        "\n",
        "    return df\n",
        "\n",
        "def clean_and_save(filename, date_cols=None):\n",
        "    df = pd.read_csv(os.path.join(DATA_DIR, filename))\n",
        "    df = clean_dataframe(df)\n",
        "\n",
        "    # Format date columns properly\n",
        "    if date_cols:\n",
        "        for col in date_cols:\n",
        "            df[col] = pd.to_datetime(df[col], errors=\"coerce\").dt.strftime(\n",
        "                \"%Y-%m-%d %H:%M:%S\" if col == \"Timestamp\" else \"%Y-%m-%d\"\n",
        "            )\n",
        "\n",
        "    cleaned_file = os.path.join(OUTPUT_DIR, filename.replace(\".csv\", \"_clean.csv\"))\n",
        "    df.to_csv(cleaned_file, index=False)\n",
        "    print(f\"Cleaned {filename} → {cleaned_file}\")\n",
        "    return cleaned_file\n",
        "\n",
        "# Clean all datasets\n",
        "files_to_download = []\n",
        "files_to_download.append(clean_and_save(\"/content/providers_data.csv\"))\n",
        "files_to_download.append(clean_and_save(\"/content/receivers_data.csv\"))\n",
        "files_to_download.append(clean_and_save(\"/content/food_listings_data.csv\", date_cols=[\"Expiry_Date\"]))\n",
        "files_to_download.append(clean_and_save(\"/content/claims_data.csv\", date_cols=[\"Timestamp\"]))\n",
        "\n",
        "# Download cleaned files\n",
        "for f in files_to_download:\n",
        "    files.download(f)\n"
      ]
    },
    {
      "cell_type": "code",
      "source": [
        "# --- Combine all cleaned datasets ---\n",
        "import pandas as pd\n",
        "from google.colab import files\n",
        "\n",
        "# Load the already cleaned datasets\n",
        "providers = pd.read_csv(\"/content/providers_data_clean.csv\")\n",
        "receivers = pd.read_csv(\"/content/receivers_data_clean.csv\")\n",
        "food_listings = pd.read_csv(\"/content/food_listings_data_clean.csv\")\n",
        "claims = pd.read_csv(\"/content/claims_data_clean.csv\")\n",
        "\n",
        "# Step 1: Merge food listings with providers (who donated the food)\n",
        "merged = pd.merge(food_listings, providers, on=\"Provider_ID\", how=\"left\", suffixes=(\"\", \"_Provider\"))\n",
        "\n",
        "# Step 2: Merge claims with receivers (who claimed the food)\n",
        "merged = pd.merge(merged, claims, on=\"Food_ID\", how=\"left\", suffixes=(\"\", \"_Claim\"))\n",
        "merged = pd.merge(merged, receivers, left_on=\"Receiver_ID\", right_on=\"Receiver_ID\", how=\"left\", suffixes=(\"\", \"_Receiver\"))\n",
        "\n",
        "# Step 3: Save the consolidated dataset\n",
        "final_path = \"/content/food_wastage_system_combined.csv\"\n",
        "merged.to_csv(final_path, index=False)\n",
        "\n",
        "# Step 4: Download combined dataset\n",
        "files.download(final_path)\n",
        "\n",
        "print(\"Combined dataset created and downloaded:\", final_path)\n"
      ],
      "metadata": {
        "colab": {
          "base_uri": "https://localhost:8080/",
          "height": 34
        },
        "id": "6o8MI758yoRy",
        "outputId": "ccf0d860-e721-4226-8bc4-e2ceb6857b06"
      },
      "execution_count": null,
      "outputs": [
        {
          "output_type": "display_data",
          "data": {
            "text/plain": [
              "<IPython.core.display.Javascript object>"
            ],
            "application/javascript": [
              "\n",
              "    async function download(id, filename, size) {\n",
              "      if (!google.colab.kernel.accessAllowed) {\n",
              "        return;\n",
              "      }\n",
              "      const div = document.createElement('div');\n",
              "      const label = document.createElement('label');\n",
              "      label.textContent = `Downloading \"${filename}\": `;\n",
              "      div.appendChild(label);\n",
              "      const progress = document.createElement('progress');\n",
              "      progress.max = size;\n",
              "      div.appendChild(progress);\n",
              "      document.body.appendChild(div);\n",
              "\n",
              "      const buffers = [];\n",
              "      let downloaded = 0;\n",
              "\n",
              "      const channel = await google.colab.kernel.comms.open(id);\n",
              "      // Send a message to notify the kernel that we're ready.\n",
              "      channel.send({})\n",
              "\n",
              "      for await (const message of channel.messages) {\n",
              "        // Send a message to notify the kernel that we're ready.\n",
              "        channel.send({})\n",
              "        if (message.buffers) {\n",
              "          for (const buffer of message.buffers) {\n",
              "            buffers.push(buffer);\n",
              "            downloaded += buffer.byteLength;\n",
              "            progress.value = downloaded;\n",
              "          }\n",
              "        }\n",
              "      }\n",
              "      const blob = new Blob(buffers, {type: 'application/binary'});\n",
              "      const a = document.createElement('a');\n",
              "      a.href = window.URL.createObjectURL(blob);\n",
              "      a.download = filename;\n",
              "      div.appendChild(a);\n",
              "      a.click();\n",
              "      div.remove();\n",
              "    }\n",
              "  "
            ]
          },
          "metadata": {}
        },
        {
          "output_type": "display_data",
          "data": {
            "text/plain": [
              "<IPython.core.display.Javascript object>"
            ],
            "application/javascript": [
              "download(\"download_d2075fb7-405d-4eeb-907e-3becd592d33b\", \"food_wastage_system_combined.csv\", 342628)"
            ]
          },
          "metadata": {}
        },
        {
          "output_type": "stream",
          "name": "stdout",
          "text": [
            "Combined dataset created and downloaded: /content/food_wastage_system_combined.csv\n"
          ]
        }
      ]
    },
    {
      "cell_type": "code",
      "source": [],
      "metadata": {
        "id": "pTrO0j-70P5Z"
      },
      "execution_count": null,
      "outputs": []
    }
  ]
}